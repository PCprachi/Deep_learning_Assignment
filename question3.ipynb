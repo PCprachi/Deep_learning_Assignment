{
  "nbformat": 4,
  "nbformat_minor": 0,
  "metadata": {
    "colab": {
      "provenance": []
    },
    "kernelspec": {
      "name": "python3",
      "display_name": "Python 3"
    },
    "language_info": {
      "name": "python"
    }
  },
  "cells": [
    {
      "cell_type": "code",
      "source": [
        "import tensorflow as tf\n",
        "from tensorflow.keras.datasets import mnist\n",
        "from tensorflow.keras.models import Sequential\n",
        "from tensorflow.keras.layers import Dense, Flatten\n",
        "from sklearn.model_selection import GridSearchCV\n",
        "#from tensorflow.keras.wrappers.scikit_learn import KerasClassifier\n",
        "!pip install scikeras[tensorflow-cpu]\n",
        "import random\n",
        "import numpy as np\n",
        "from sklearn.metrics import accuracy_score"
      ],
      "metadata": {
        "colab": {
          "base_uri": "https://localhost:8080/"
        },
        "id": "OxVVgfdxdqVL",
        "outputId": "8a6ec5da-450f-40d3-a123-ab1961f5d91a"
      },
      "execution_count": 8,
      "outputs": [
        {
          "output_type": "stream",
          "name": "stdout",
          "text": [
            "Requirement already satisfied: scikeras[tensorflow-cpu] in /usr/local/lib/python3.10/dist-packages (0.12.0)\n",
            "Requirement already satisfied: packaging>=0.21 in /usr/local/lib/python3.10/dist-packages (from scikeras[tensorflow-cpu]) (24.0)\n",
            "Requirement already satisfied: scikit-learn>=1.0.0 in /usr/local/lib/python3.10/dist-packages (from scikeras[tensorflow-cpu]) (1.2.2)\n",
            "Requirement already satisfied: tensorflow-cpu<2.13.0,>=2.12.0 in /usr/local/lib/python3.10/dist-packages (from scikeras[tensorflow-cpu]) (2.12.1)\n",
            "Requirement already satisfied: numpy>=1.17.3 in /usr/local/lib/python3.10/dist-packages (from scikit-learn>=1.0.0->scikeras[tensorflow-cpu]) (1.24.3)\n",
            "Requirement already satisfied: scipy>=1.3.2 in /usr/local/lib/python3.10/dist-packages (from scikit-learn>=1.0.0->scikeras[tensorflow-cpu]) (1.11.4)\n",
            "Requirement already satisfied: joblib>=1.1.1 in /usr/local/lib/python3.10/dist-packages (from scikit-learn>=1.0.0->scikeras[tensorflow-cpu]) (1.3.2)\n",
            "Requirement already satisfied: threadpoolctl>=2.0.0 in /usr/local/lib/python3.10/dist-packages (from scikit-learn>=1.0.0->scikeras[tensorflow-cpu]) (3.3.0)\n",
            "Requirement already satisfied: absl-py>=1.0.0 in /usr/local/lib/python3.10/dist-packages (from tensorflow-cpu<2.13.0,>=2.12.0->scikeras[tensorflow-cpu]) (1.4.0)\n",
            "Requirement already satisfied: astunparse>=1.6.0 in /usr/local/lib/python3.10/dist-packages (from tensorflow-cpu<2.13.0,>=2.12.0->scikeras[tensorflow-cpu]) (1.6.3)\n",
            "Requirement already satisfied: flatbuffers>=2.0 in /usr/local/lib/python3.10/dist-packages (from tensorflow-cpu<2.13.0,>=2.12.0->scikeras[tensorflow-cpu]) (24.3.7)\n",
            "Requirement already satisfied: gast<=0.4.0,>=0.2.1 in /usr/local/lib/python3.10/dist-packages (from tensorflow-cpu<2.13.0,>=2.12.0->scikeras[tensorflow-cpu]) (0.4.0)\n",
            "Requirement already satisfied: google-pasta>=0.1.1 in /usr/local/lib/python3.10/dist-packages (from tensorflow-cpu<2.13.0,>=2.12.0->scikeras[tensorflow-cpu]) (0.2.0)\n",
            "Requirement already satisfied: grpcio<2.0,>=1.24.3 in /usr/local/lib/python3.10/dist-packages (from tensorflow-cpu<2.13.0,>=2.12.0->scikeras[tensorflow-cpu]) (1.62.1)\n",
            "Requirement already satisfied: h5py>=2.9.0 in /usr/local/lib/python3.10/dist-packages (from tensorflow-cpu<2.13.0,>=2.12.0->scikeras[tensorflow-cpu]) (3.9.0)\n",
            "Requirement already satisfied: jax>=0.3.15 in /usr/local/lib/python3.10/dist-packages (from tensorflow-cpu<2.13.0,>=2.12.0->scikeras[tensorflow-cpu]) (0.4.23)\n",
            "Requirement already satisfied: keras<2.13,>=2.12.0 in /usr/local/lib/python3.10/dist-packages (from tensorflow-cpu<2.13.0,>=2.12.0->scikeras[tensorflow-cpu]) (2.12.0)\n",
            "Requirement already satisfied: libclang>=13.0.0 in /usr/local/lib/python3.10/dist-packages (from tensorflow-cpu<2.13.0,>=2.12.0->scikeras[tensorflow-cpu]) (18.1.1)\n",
            "Requirement already satisfied: opt-einsum>=2.3.2 in /usr/local/lib/python3.10/dist-packages (from tensorflow-cpu<2.13.0,>=2.12.0->scikeras[tensorflow-cpu]) (3.3.0)\n",
            "Requirement already satisfied: protobuf!=4.21.0,!=4.21.1,!=4.21.2,!=4.21.3,!=4.21.4,!=4.21.5,<5.0.0dev,>=3.20.3 in /usr/local/lib/python3.10/dist-packages (from tensorflow-cpu<2.13.0,>=2.12.0->scikeras[tensorflow-cpu]) (3.20.3)\n",
            "Requirement already satisfied: setuptools in /usr/local/lib/python3.10/dist-packages (from tensorflow-cpu<2.13.0,>=2.12.0->scikeras[tensorflow-cpu]) (67.7.2)\n",
            "Requirement already satisfied: six>=1.12.0 in /usr/local/lib/python3.10/dist-packages (from tensorflow-cpu<2.13.0,>=2.12.0->scikeras[tensorflow-cpu]) (1.16.0)\n",
            "Requirement already satisfied: tensorboard<2.13,>=2.12 in /usr/local/lib/python3.10/dist-packages (from tensorflow-cpu<2.13.0,>=2.12.0->scikeras[tensorflow-cpu]) (2.12.3)\n",
            "Requirement already satisfied: tensorflow-estimator<2.13,>=2.12.0 in /usr/local/lib/python3.10/dist-packages (from tensorflow-cpu<2.13.0,>=2.12.0->scikeras[tensorflow-cpu]) (2.12.0)\n",
            "Requirement already satisfied: termcolor>=1.1.0 in /usr/local/lib/python3.10/dist-packages (from tensorflow-cpu<2.13.0,>=2.12.0->scikeras[tensorflow-cpu]) (2.4.0)\n",
            "Requirement already satisfied: typing-extensions<4.6.0,>=3.6.6 in /usr/local/lib/python3.10/dist-packages (from tensorflow-cpu<2.13.0,>=2.12.0->scikeras[tensorflow-cpu]) (4.5.0)\n",
            "Requirement already satisfied: wrapt<1.15,>=1.11.0 in /usr/local/lib/python3.10/dist-packages (from tensorflow-cpu<2.13.0,>=2.12.0->scikeras[tensorflow-cpu]) (1.14.1)\n",
            "Requirement already satisfied: tensorflow-io-gcs-filesystem>=0.23.1 in /usr/local/lib/python3.10/dist-packages (from tensorflow-cpu<2.13.0,>=2.12.0->scikeras[tensorflow-cpu]) (0.36.0)\n",
            "Requirement already satisfied: wheel<1.0,>=0.23.0 in /usr/local/lib/python3.10/dist-packages (from astunparse>=1.6.0->tensorflow-cpu<2.13.0,>=2.12.0->scikeras[tensorflow-cpu]) (0.43.0)\n",
            "Requirement already satisfied: ml-dtypes>=0.2.0 in /usr/local/lib/python3.10/dist-packages (from jax>=0.3.15->tensorflow-cpu<2.13.0,>=2.12.0->scikeras[tensorflow-cpu]) (0.2.0)\n",
            "Requirement already satisfied: google-auth<3,>=1.6.3 in /usr/local/lib/python3.10/dist-packages (from tensorboard<2.13,>=2.12->tensorflow-cpu<2.13.0,>=2.12.0->scikeras[tensorflow-cpu]) (2.27.0)\n",
            "Requirement already satisfied: google-auth-oauthlib<1.1,>=0.5 in /usr/local/lib/python3.10/dist-packages (from tensorboard<2.13,>=2.12->tensorflow-cpu<2.13.0,>=2.12.0->scikeras[tensorflow-cpu]) (1.0.0)\n",
            "Requirement already satisfied: markdown>=2.6.8 in /usr/local/lib/python3.10/dist-packages (from tensorboard<2.13,>=2.12->tensorflow-cpu<2.13.0,>=2.12.0->scikeras[tensorflow-cpu]) (3.6)\n",
            "Requirement already satisfied: requests<3,>=2.21.0 in /usr/local/lib/python3.10/dist-packages (from tensorboard<2.13,>=2.12->tensorflow-cpu<2.13.0,>=2.12.0->scikeras[tensorflow-cpu]) (2.31.0)\n",
            "Requirement already satisfied: tensorboard-data-server<0.8.0,>=0.7.0 in /usr/local/lib/python3.10/dist-packages (from tensorboard<2.13,>=2.12->tensorflow-cpu<2.13.0,>=2.12.0->scikeras[tensorflow-cpu]) (0.7.2)\n",
            "Requirement already satisfied: werkzeug>=1.0.1 in /usr/local/lib/python3.10/dist-packages (from tensorboard<2.13,>=2.12->tensorflow-cpu<2.13.0,>=2.12.0->scikeras[tensorflow-cpu]) (3.0.1)\n",
            "Requirement already satisfied: cachetools<6.0,>=2.0.0 in /usr/local/lib/python3.10/dist-packages (from google-auth<3,>=1.6.3->tensorboard<2.13,>=2.12->tensorflow-cpu<2.13.0,>=2.12.0->scikeras[tensorflow-cpu]) (5.3.3)\n",
            "Requirement already satisfied: pyasn1-modules>=0.2.1 in /usr/local/lib/python3.10/dist-packages (from google-auth<3,>=1.6.3->tensorboard<2.13,>=2.12->tensorflow-cpu<2.13.0,>=2.12.0->scikeras[tensorflow-cpu]) (0.3.0)\n",
            "Requirement already satisfied: rsa<5,>=3.1.4 in /usr/local/lib/python3.10/dist-packages (from google-auth<3,>=1.6.3->tensorboard<2.13,>=2.12->tensorflow-cpu<2.13.0,>=2.12.0->scikeras[tensorflow-cpu]) (4.9)\n",
            "Requirement already satisfied: requests-oauthlib>=0.7.0 in /usr/local/lib/python3.10/dist-packages (from google-auth-oauthlib<1.1,>=0.5->tensorboard<2.13,>=2.12->tensorflow-cpu<2.13.0,>=2.12.0->scikeras[tensorflow-cpu]) (1.4.0)\n",
            "Requirement already satisfied: charset-normalizer<4,>=2 in /usr/local/lib/python3.10/dist-packages (from requests<3,>=2.21.0->tensorboard<2.13,>=2.12->tensorflow-cpu<2.13.0,>=2.12.0->scikeras[tensorflow-cpu]) (3.3.2)\n",
            "Requirement already satisfied: idna<4,>=2.5 in /usr/local/lib/python3.10/dist-packages (from requests<3,>=2.21.0->tensorboard<2.13,>=2.12->tensorflow-cpu<2.13.0,>=2.12.0->scikeras[tensorflow-cpu]) (3.6)\n",
            "Requirement already satisfied: urllib3<3,>=1.21.1 in /usr/local/lib/python3.10/dist-packages (from requests<3,>=2.21.0->tensorboard<2.13,>=2.12->tensorflow-cpu<2.13.0,>=2.12.0->scikeras[tensorflow-cpu]) (2.0.7)\n",
            "Requirement already satisfied: certifi>=2017.4.17 in /usr/local/lib/python3.10/dist-packages (from requests<3,>=2.21.0->tensorboard<2.13,>=2.12->tensorflow-cpu<2.13.0,>=2.12.0->scikeras[tensorflow-cpu]) (2024.2.2)\n",
            "Requirement already satisfied: MarkupSafe>=2.1.1 in /usr/local/lib/python3.10/dist-packages (from werkzeug>=1.0.1->tensorboard<2.13,>=2.12->tensorflow-cpu<2.13.0,>=2.12.0->scikeras[tensorflow-cpu]) (2.1.5)\n",
            "Requirement already satisfied: pyasn1<0.6.0,>=0.4.6 in /usr/local/lib/python3.10/dist-packages (from pyasn1-modules>=0.2.1->google-auth<3,>=1.6.3->tensorboard<2.13,>=2.12->tensorflow-cpu<2.13.0,>=2.12.0->scikeras[tensorflow-cpu]) (0.5.1)\n",
            "Requirement already satisfied: oauthlib>=3.0.0 in /usr/local/lib/python3.10/dist-packages (from requests-oauthlib>=0.7.0->google-auth-oauthlib<1.1,>=0.5->tensorboard<2.13,>=2.12->tensorflow-cpu<2.13.0,>=2.12.0->scikeras[tensorflow-cpu]) (3.2.2)\n"
          ]
        }
      ]
    },
    {
      "cell_type": "code",
      "source": [
        "\n",
        "from scikeras.wrappers import KerasClassifier"
      ],
      "metadata": {
        "id": "KNjGk9e1el3g"
      },
      "execution_count": 9,
      "outputs": []
    },
    {
      "cell_type": "code",
      "source": [
        "# Set random seed for reproducibility\n",
        "random_seed = 42\n",
        "np.random.seed(random_seed)\n",
        "tf.random.set_seed(random_seed)\n",
        "random.seed(random_seed)\n",
        "\n",
        "# Load MNIST dataset\n",
        "(x_train, y_train), (x_test, y_test) = mnist.load_data()\n",
        "\n",
        "# Normalize pixel values to the range [0, 1] and cast to float32\n",
        "x_train = x_train.astype('float32') / 255.0\n",
        "x_test = x_test.astype('float32') / 255.0\n",
        "\n",
        "# Reshape x_train and x_test to add a channel dimension\n",
        "x_train = x_train.reshape((-1, 28, 28, 1))\n",
        "x_test = x_test.reshape((-1, 28, 28, 1))\n",
        "\n",
        "# Define the neural network architecture\n",
        "def create_model(neurons_per_layer=64, activation_function='relu'):\n",
        "    model = Sequential([\n",
        "        Flatten(input_shape=(28, 28, 1)),  # Assuming grayscale images\n",
        "        Dense(neurons_per_layer, activation=activation_function),\n",
        "        Dense(10, activation='softmax')  # 10 output units for 10 classes\n",
        "    ])\n",
        "    model.compile(optimizer='adam',\n",
        "                  loss=tf.keras.losses.SparseCategoricalCrossentropy(),\n",
        "                  metrics=['accuracy'])\n",
        "    return model\n",
        "\n",
        "# Define a custom wrapper function for GridSearchCV\n",
        "def build_model(neurons_per_layer=64, activation_function='relu'):\n",
        "    model = create_model(neurons_per_layer=neurons_per_layer, activation_function=activation_function)\n",
        "    return model\n",
        "\n",
        "# Create KerasClassifier for GridSearchCV\n",
        "model = tf.keras.wrappers.scikit_learn.KerasClassifier(build_fn=build_model, epochs=3, batch_size=32, verbose=0)\n",
        "\n",
        "# Define hyperparameters to tune\n",
        "param_grid = {\n",
        "    'neurons_per_layer': [32, 64, 128],\n",
        "    'activation_function': ['relu', 'tanh', 'sigmoid']\n",
        "}\n",
        "\n",
        "# Perform grid search\n",
        "grid_search = GridSearchCV(estimator=model, param_grid=param_grid, cv=3, verbose=2)\n",
        "grid_result = grid_search.fit(x_train, y_train)\n",
        "\n",
        "# Summarize results\n",
        "print(\"Overall Results:\")\n",
        "print(\"Best: %f using %s\" % (grid_result.best_score_, grid_result.best_params_))\n",
        "means = grid_result.cv_results_['mean_test_score']\n",
        "stds = grid_result.cv_results_['std_test_score']\n",
        "params = grid_result.cv_results_['params']\n",
        "for mean, stdev, param in zip(means, stds, params):\n",
        "    print(\"%f (%f) with: %r\" % (mean, stdev, param))\n",
        "\n",
        "# Separate results for each activation function\n",
        "activation_functions = ['relu', 'tanh', 'sigmoid']\n",
        "for activation_function in activation_functions:\n",
        "    activation_results = [(mean, std, param) for mean, std, param in zip(means, stds, params) if param['activation_function'] == activation_function]\n",
        "    print(f\"\\nResults for {activation_function.capitalize()} activation:\")\n",
        "    for mean, std, param in activation_results:\n",
        "        print(\"%f (%f) with: %r\" % (mean, std, param))\n",
        "\n",
        "# Evaluate the best model\n",
        "y_pred = grid_search.predict(x_test)\n",
        "test_acc = accuracy_score(y_test, y_pred)\n",
        "print('\\nTest accuracy of the best model:', test_acc)"
      ],
      "metadata": {
        "colab": {
          "base_uri": "https://localhost:8080/"
        },
        "id": "-svxIB6WfsOX",
        "outputId": "df1c12e5-bfef-46c7-8305-d09c490c4170"
      },
      "execution_count": 10,
      "outputs": [
        {
          "output_type": "stream",
          "name": "stderr",
          "text": [
            "<ipython-input-10-6c55eb2cbab8>:36: DeprecationWarning: KerasClassifier is deprecated, use Sci-Keras (https://github.com/adriangb/scikeras) instead. See https://www.adriangb.com/scikeras/stable/migration.html for help migrating.\n",
            "  model = tf.keras.wrappers.scikit_learn.KerasClassifier(build_fn=build_model, epochs=3, batch_size=32, verbose=0)\n"
          ]
        },
        {
          "output_type": "stream",
          "name": "stdout",
          "text": [
            "Fitting 3 folds for each of 9 candidates, totalling 27 fits\n",
            "[CV] END .....activation_function=relu, neurons_per_layer=32; total time=  24.0s\n",
            "[CV] END .....activation_function=relu, neurons_per_layer=32; total time=   8.4s\n",
            "[CV] END .....activation_function=relu, neurons_per_layer=32; total time=  13.1s\n",
            "[CV] END .....activation_function=relu, neurons_per_layer=64; total time=  12.8s\n",
            "[CV] END .....activation_function=relu, neurons_per_layer=64; total time=  12.7s\n",
            "[CV] END .....activation_function=relu, neurons_per_layer=64; total time=  12.6s\n",
            "[CV] END ....activation_function=relu, neurons_per_layer=128; total time=  23.0s\n",
            "[CV] END ....activation_function=relu, neurons_per_layer=128; total time=  23.6s\n",
            "[CV] END ....activation_function=relu, neurons_per_layer=128; total time=  14.2s\n",
            "[CV] END .....activation_function=tanh, neurons_per_layer=32; total time=   8.6s\n",
            "[CV] END .....activation_function=tanh, neurons_per_layer=32; total time=  12.7s\n",
            "[CV] END .....activation_function=tanh, neurons_per_layer=32; total time=   9.3s\n",
            "[CV] END .....activation_function=tanh, neurons_per_layer=64; total time=  10.6s\n",
            "[CV] END .....activation_function=tanh, neurons_per_layer=64; total time=  10.2s\n",
            "[CV] END .....activation_function=tanh, neurons_per_layer=64; total time=  13.9s\n",
            "[CV] END ....activation_function=tanh, neurons_per_layer=128; total time=  23.0s\n",
            "[CV] END ....activation_function=tanh, neurons_per_layer=128; total time=  23.0s\n",
            "[CV] END ....activation_function=tanh, neurons_per_layer=128; total time=  24.2s\n",
            "[CV] END ..activation_function=sigmoid, neurons_per_layer=32; total time=  12.6s\n",
            "[CV] END ..activation_function=sigmoid, neurons_per_layer=32; total time=   8.1s\n",
            "[CV] END ..activation_function=sigmoid, neurons_per_layer=32; total time=   8.7s\n",
            "[CV] END ..activation_function=sigmoid, neurons_per_layer=64; total time=  11.0s\n",
            "[CV] END ..activation_function=sigmoid, neurons_per_layer=64; total time=  12.2s\n",
            "[CV] END ..activation_function=sigmoid, neurons_per_layer=64; total time=  11.3s\n",
            "[CV] END .activation_function=sigmoid, neurons_per_layer=128; total time=  14.4s\n",
            "[CV] END .activation_function=sigmoid, neurons_per_layer=128; total time=  22.5s\n",
            "[CV] END .activation_function=sigmoid, neurons_per_layer=128; total time=  22.4s\n",
            "Overall Results:\n",
            "Best: 0.965233 using {'activation_function': 'relu', 'neurons_per_layer': 128}\n",
            "0.947483 (0.002736) with: {'activation_function': 'relu', 'neurons_per_layer': 32}\n",
            "0.958817 (0.002317) with: {'activation_function': 'relu', 'neurons_per_layer': 64}\n",
            "0.965233 (0.000944) with: {'activation_function': 'relu', 'neurons_per_layer': 128}\n",
            "0.944400 (0.003744) with: {'activation_function': 'tanh', 'neurons_per_layer': 32}\n",
            "0.954600 (0.002052) with: {'activation_function': 'tanh', 'neurons_per_layer': 64}\n",
            "0.959550 (0.003240) with: {'activation_function': 'tanh', 'neurons_per_layer': 128}\n",
            "0.932900 (0.001638) with: {'activation_function': 'sigmoid', 'neurons_per_layer': 32}\n",
            "0.942583 (0.001846) with: {'activation_function': 'sigmoid', 'neurons_per_layer': 64}\n",
            "0.948367 (0.002017) with: {'activation_function': 'sigmoid', 'neurons_per_layer': 128}\n",
            "\n",
            "Results for Relu activation:\n",
            "0.947483 (0.002736) with: {'activation_function': 'relu', 'neurons_per_layer': 32}\n",
            "0.958817 (0.002317) with: {'activation_function': 'relu', 'neurons_per_layer': 64}\n",
            "0.965233 (0.000944) with: {'activation_function': 'relu', 'neurons_per_layer': 128}\n",
            "\n",
            "Results for Tanh activation:\n",
            "0.944400 (0.003744) with: {'activation_function': 'tanh', 'neurons_per_layer': 32}\n",
            "0.954600 (0.002052) with: {'activation_function': 'tanh', 'neurons_per_layer': 64}\n",
            "0.959550 (0.003240) with: {'activation_function': 'tanh', 'neurons_per_layer': 128}\n",
            "\n",
            "Results for Sigmoid activation:\n",
            "0.932900 (0.001638) with: {'activation_function': 'sigmoid', 'neurons_per_layer': 32}\n",
            "0.942583 (0.001846) with: {'activation_function': 'sigmoid', 'neurons_per_layer': 64}\n",
            "0.948367 (0.002017) with: {'activation_function': 'sigmoid', 'neurons_per_layer': 128}\n",
            "313/313 [==============================] - 1s 2ms/step\n",
            "\n",
            "Test accuracy of the best model: 0.9757\n"
          ]
        }
      ]
    },
    {
      "cell_type": "code",
      "source": [],
      "metadata": {
        "id": "tvsGkbMnfs9P"
      },
      "execution_count": null,
      "outputs": []
    }
  ]
}